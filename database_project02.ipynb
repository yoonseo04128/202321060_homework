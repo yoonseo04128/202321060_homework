{
  "nbformat": 4,
  "nbformat_minor": 0,
  "metadata": {
    "colab": {
      "provenance": [],
      "authorship_tag": "ABX9TyN88kixbLHy9W+rEAsy7OlY",
      "include_colab_link": true
    },
    "kernelspec": {
      "name": "python3",
      "display_name": "Python 3"
    },
    "language_info": {
      "name": "python"
    }
  },
  "cells": [
    {
      "cell_type": "markdown",
      "metadata": {
        "id": "view-in-github",
        "colab_type": "text"
      },
      "source": [
        "<a href=\"https://colab.research.google.com/github/yoonseo04128/202321060_homework/blob/main/database_project02.ipynb\" target=\"_parent\"><img src=\"https://colab.research.google.com/assets/colab-badge.svg\" alt=\"Open In Colab\"/></a>"
      ]
    },
    {
      "cell_type": "markdown",
      "source": [
        "2. 반려동물 위한 앱\n",
        "\n",
        "*   서비스 : 온라인 마트, 병원 탐색, 소통\n",
        "*   타겟기능 : 병원 검색, 소통, 진료\n"
      ],
      "metadata": {
        "id": "er04oy3Q47f-"
      }
    },
    {
      "cell_type": "code",
      "execution_count": null,
      "metadata": {
        "id": "Jsje_FOCK4CN",
        "colab": {
          "base_uri": "https://localhost:8080/"
        },
        "outputId": "7f742fc7-5151-4929-b7e1-d456eede34d1"
      },
      "outputs": [
        {
          "output_type": "stream",
          "name": "stdout",
          "text": [
            "Requirement already satisfied: ipython-sql in /usr/local/lib/python3.10/dist-packages (0.5.0)\n",
            "Requirement already satisfied: prettytable in /usr/local/lib/python3.10/dist-packages (from ipython-sql) (3.12.0)\n",
            "Requirement already satisfied: ipython in /usr/local/lib/python3.10/dist-packages (from ipython-sql) (7.34.0)\n",
            "Requirement already satisfied: sqlalchemy>=2.0 in /usr/local/lib/python3.10/dist-packages (from ipython-sql) (2.0.36)\n",
            "Requirement already satisfied: sqlparse in /usr/local/lib/python3.10/dist-packages (from ipython-sql) (0.5.2)\n",
            "Requirement already satisfied: six in /usr/local/lib/python3.10/dist-packages (from ipython-sql) (1.16.0)\n",
            "Requirement already satisfied: ipython-genutils in /usr/local/lib/python3.10/dist-packages (from ipython-sql) (0.2.0)\n",
            "Requirement already satisfied: typing-extensions>=4.6.0 in /usr/local/lib/python3.10/dist-packages (from sqlalchemy>=2.0->ipython-sql) (4.12.2)\n",
            "Requirement already satisfied: greenlet!=0.4.17 in /usr/local/lib/python3.10/dist-packages (from sqlalchemy>=2.0->ipython-sql) (3.1.1)\n",
            "Requirement already satisfied: setuptools>=18.5 in /usr/local/lib/python3.10/dist-packages (from ipython->ipython-sql) (75.1.0)\n",
            "Requirement already satisfied: jedi>=0.16 in /usr/local/lib/python3.10/dist-packages (from ipython->ipython-sql) (0.19.2)\n",
            "Requirement already satisfied: decorator in /usr/local/lib/python3.10/dist-packages (from ipython->ipython-sql) (4.4.2)\n",
            "Requirement already satisfied: pickleshare in /usr/local/lib/python3.10/dist-packages (from ipython->ipython-sql) (0.7.5)\n",
            "Requirement already satisfied: traitlets>=4.2 in /usr/local/lib/python3.10/dist-packages (from ipython->ipython-sql) (5.7.1)\n",
            "Requirement already satisfied: prompt-toolkit!=3.0.0,!=3.0.1,<3.1.0,>=2.0.0 in /usr/local/lib/python3.10/dist-packages (from ipython->ipython-sql) (3.0.48)\n",
            "Requirement already satisfied: pygments in /usr/local/lib/python3.10/dist-packages (from ipython->ipython-sql) (2.18.0)\n",
            "Requirement already satisfied: backcall in /usr/local/lib/python3.10/dist-packages (from ipython->ipython-sql) (0.2.0)\n",
            "Requirement already satisfied: matplotlib-inline in /usr/local/lib/python3.10/dist-packages (from ipython->ipython-sql) (0.1.7)\n",
            "Requirement already satisfied: pexpect>4.3 in /usr/local/lib/python3.10/dist-packages (from ipython->ipython-sql) (4.9.0)\n",
            "Requirement already satisfied: wcwidth in /usr/local/lib/python3.10/dist-packages (from prettytable->ipython-sql) (0.2.13)\n",
            "Requirement already satisfied: parso<0.9.0,>=0.8.4 in /usr/local/lib/python3.10/dist-packages (from jedi>=0.16->ipython->ipython-sql) (0.8.4)\n",
            "Requirement already satisfied: ptyprocess>=0.5 in /usr/local/lib/python3.10/dist-packages (from pexpect>4.3->ipython->ipython-sql) (0.7.0)\n"
          ]
        }
      ],
      "source": [
        "!pip install ipython-sql"
      ]
    },
    {
      "cell_type": "code",
      "source": [
        "%load_ext sql\n",
        "%sql sqlite:///example.db"
      ],
      "metadata": {
        "id": "HYvSNJJeCYrZ",
        "colab": {
          "base_uri": "https://localhost:8080/"
        },
        "outputId": "b847fc8f-6b68-48a0-e661-4f2b7b9493d6"
      },
      "execution_count": null,
      "outputs": [
        {
          "output_type": "stream",
          "name": "stdout",
          "text": [
            "The sql extension is already loaded. To reload it, use:\n",
            "  %reload_ext sql\n"
          ]
        }
      ]
    },
    {
      "cell_type": "code",
      "source": [
        "import prettytable\n",
        "import sql\n",
        "sql.displayoptions = {\n",
        "    'style': 'PADDING'\n",
        "}"
      ],
      "metadata": {
        "id": "r7iy1ojccz9Z"
      },
      "execution_count": null,
      "outputs": []
    },
    {
      "cell_type": "markdown",
      "source": [
        "**'게시글 작성'**\n",
        "\n",
        "\n",
        "< 시나리오 >\n",
        "1. 전체 : 현재 올라온 게시글들을 전부 보여줌\n",
        "2. 분류 : 특정 게시판마다 글이 나눠짐\n",
        "3. 삽입 : 회원이 게시글을 올리면 게시글 테이블에 정보가 들어감\n",
        "4. 수정 : 회원은 게시글의 제목과 내용을 수정하면 테이블 정보가 수정됨\n",
        "5. 삭제 : 회원은 자신이 작성했었던 글을 삭제하면 테이블에 있던 해당 글의 정보가 삭제됨\n"
      ],
      "metadata": {
        "id": "3kpaBNCKT-WL"
      }
    },
    {
      "cell_type": "markdown",
      "source": [
        "[ 게시글 테이블 생성 ]"
      ],
      "metadata": {
        "id": "3Oz3BF3uT_8L"
      }
    },
    {
      "cell_type": "code",
      "source": [
        "%%sql\n",
        "\n",
        "CREATE TABLE IF NOT EXISTS posts (\n",
        "    post_number INTEGER PRIMARY KEY,\n",
        "    post_title TEXT NOT NULL,\n",
        "    post_content TEXT NOT NULL,\n",
        "    member_id TEXT NOT NULL,\n",
        "    type TEXT NOT NULL\n",
        ");"
      ],
      "metadata": {
        "id": "bDC3FmxKT_ZV",
        "colab": {
          "base_uri": "https://localhost:8080/"
        },
        "outputId": "ff6e9a54-e7c3-49a2-9127-7da71cc090c8"
      },
      "execution_count": null,
      "outputs": [
        {
          "output_type": "stream",
          "name": "stdout",
          "text": [
            " * sqlite:///example.db\n",
            "Done.\n"
          ]
        },
        {
          "output_type": "execute_result",
          "data": {
            "text/plain": [
              "[]"
            ]
          },
          "metadata": {},
          "execution_count": 52
        }
      ]
    },
    {
      "cell_type": "code",
      "source": [
        "%%sql\n",
        "\n",
        "INSERT INTO posts (post_number, post_title, post_content, member_id, type)\n",
        "VALUES\n",
        "(1930420, '안녕하세요', '이번에…', 'apple12', '전체'),\n",
        "(1384291, '질문', '강아지가…', 'e2dfs57', '강아지'),\n",
        "(1200349, '동물병원…', '휴일에...', '12nw1206', '전체'),\n",
        "(1214291, '질문', '앵무새가…', 'wernnsdfs57', '새'),\n",
        "(1229349, '동물병원…', '공휴일...', '23wnw1206', '전체'),\n",
        "(1104291, '질문', '산책…', 'sdfs57', '강아지'),\n",
        "(1129349, '동물병원…', '가격에...', 'dow206', '전체'),\n",
        "(1939248, '고양이가…', '고양이가…', 'zdifgs39', '고양이');"
      ],
      "metadata": {
        "id": "xVEJheGqT_ns",
        "colab": {
          "base_uri": "https://localhost:8080/"
        },
        "outputId": "626a450c-29f5-439b-da02-52210e7fe016"
      },
      "execution_count": null,
      "outputs": [
        {
          "output_type": "stream",
          "name": "stdout",
          "text": [
            " * sqlite:///example.db\n",
            "8 rows affected.\n"
          ]
        },
        {
          "output_type": "execute_result",
          "data": {
            "text/plain": [
              "[]"
            ]
          },
          "metadata": {},
          "execution_count": 58
        }
      ]
    },
    {
      "cell_type": "code",
      "source": [
        "%config SqlMagic.style = '_DEPRECATED_DEFAULT'"
      ],
      "metadata": {
        "id": "W37pxD-Pgq9y"
      },
      "execution_count": null,
      "outputs": []
    },
    {
      "cell_type": "markdown",
      "source": [
        "(1) 전체"
      ],
      "metadata": {
        "id": "zJim0mg8VqIY"
      }
    },
    {
      "cell_type": "code",
      "source": [
        "%sql SELECT * FROM posts;"
      ],
      "metadata": {
        "id": "WM35-Rk0VszD",
        "colab": {
          "base_uri": "https://localhost:8080/",
          "height": 243
        },
        "outputId": "968ebd18-c6a8-4d58-e918-85516095ab45"
      },
      "execution_count": null,
      "outputs": [
        {
          "output_type": "stream",
          "name": "stdout",
          "text": [
            " * sqlite:///example.db\n",
            "Done.\n"
          ]
        },
        {
          "output_type": "execute_result",
          "data": {
            "text/plain": [
              "[(1104291, '질문', '산책…', 'sdfs57', '강아지'),\n",
              " (1129349, '동물병원…', '가격에...', 'dow206', '전체'),\n",
              " (1200349, '동물병원…', '휴일에...', '12nw1206', '전체'),\n",
              " (1214291, '질문', '앵무새가…', 'wernnsdfs57', '새'),\n",
              " (1229349, '동물병원…', '공휴일...', '23wnw1206', '전체'),\n",
              " (1384291, '질문', '강아지가…', 'e2dfs57', '강아지'),\n",
              " (1930420, '안녕하세요', '이번에…', 'apple12', '전체'),\n",
              " (1939248, '고양이가…', '고양이가…', 'zdifgs39', '고양이')]"
            ],
            "text/html": [
              "<table>\n",
              "    <thead>\n",
              "        <tr>\n",
              "            <th>post_number</th>\n",
              "            <th>post_title</th>\n",
              "            <th>post_content</th>\n",
              "            <th>member_id</th>\n",
              "            <th>type</th>\n",
              "        </tr>\n",
              "    </thead>\n",
              "    <tbody>\n",
              "        <tr>\n",
              "            <td>1104291</td>\n",
              "            <td>질문</td>\n",
              "            <td>산책…</td>\n",
              "            <td>sdfs57</td>\n",
              "            <td>강아지</td>\n",
              "        </tr>\n",
              "        <tr>\n",
              "            <td>1129349</td>\n",
              "            <td>동물병원…</td>\n",
              "            <td>가격에...</td>\n",
              "            <td>dow206</td>\n",
              "            <td>전체</td>\n",
              "        </tr>\n",
              "        <tr>\n",
              "            <td>1200349</td>\n",
              "            <td>동물병원…</td>\n",
              "            <td>휴일에...</td>\n",
              "            <td>12nw1206</td>\n",
              "            <td>전체</td>\n",
              "        </tr>\n",
              "        <tr>\n",
              "            <td>1214291</td>\n",
              "            <td>질문</td>\n",
              "            <td>앵무새가…</td>\n",
              "            <td>wernnsdfs57</td>\n",
              "            <td>새</td>\n",
              "        </tr>\n",
              "        <tr>\n",
              "            <td>1229349</td>\n",
              "            <td>동물병원…</td>\n",
              "            <td>공휴일...</td>\n",
              "            <td>23wnw1206</td>\n",
              "            <td>전체</td>\n",
              "        </tr>\n",
              "        <tr>\n",
              "            <td>1384291</td>\n",
              "            <td>질문</td>\n",
              "            <td>강아지가…</td>\n",
              "            <td>e2dfs57</td>\n",
              "            <td>강아지</td>\n",
              "        </tr>\n",
              "        <tr>\n",
              "            <td>1930420</td>\n",
              "            <td>안녕하세요</td>\n",
              "            <td>이번에…</td>\n",
              "            <td>apple12</td>\n",
              "            <td>전체</td>\n",
              "        </tr>\n",
              "        <tr>\n",
              "            <td>1939248</td>\n",
              "            <td>고양이가…</td>\n",
              "            <td>고양이가…</td>\n",
              "            <td>zdifgs39</td>\n",
              "            <td>고양이</td>\n",
              "        </tr>\n",
              "    </tbody>\n",
              "</table>"
            ]
          },
          "metadata": {},
          "execution_count": 71
        }
      ]
    },
    {
      "cell_type": "markdown",
      "source": [
        "(2) 분류"
      ],
      "metadata": {
        "id": "o1KynxxqVtMd"
      }
    },
    {
      "cell_type": "code",
      "source": [
        "%%sql\n",
        "\n",
        "SELECT *\n",
        "FROM posts\n",
        "WHERE type = '전체';"
      ],
      "metadata": {
        "id": "xJt5CwJAVvMv",
        "colab": {
          "base_uri": "https://localhost:8080/",
          "height": 160
        },
        "outputId": "64ff03ef-64b1-4cfb-89fc-8176d9963cdc"
      },
      "execution_count": null,
      "outputs": [
        {
          "output_type": "stream",
          "name": "stdout",
          "text": [
            " * sqlite:///example.db\n",
            "Done.\n"
          ]
        },
        {
          "output_type": "execute_result",
          "data": {
            "text/plain": [
              "[(1129349, '동물병원…', '가격에...', 'dow206', '전체'),\n",
              " (1200349, '동물병원…', '휴일에...', '12nw1206', '전체'),\n",
              " (1229349, '동물병원…', '공휴일...', '23wnw1206', '전체'),\n",
              " (1930420, '안녕하세요', '이번에…', 'apple12', '전체')]"
            ],
            "text/html": [
              "<table>\n",
              "    <thead>\n",
              "        <tr>\n",
              "            <th>post_number</th>\n",
              "            <th>post_title</th>\n",
              "            <th>post_content</th>\n",
              "            <th>member_id</th>\n",
              "            <th>type</th>\n",
              "        </tr>\n",
              "    </thead>\n",
              "    <tbody>\n",
              "        <tr>\n",
              "            <td>1129349</td>\n",
              "            <td>동물병원…</td>\n",
              "            <td>가격에...</td>\n",
              "            <td>dow206</td>\n",
              "            <td>전체</td>\n",
              "        </tr>\n",
              "        <tr>\n",
              "            <td>1200349</td>\n",
              "            <td>동물병원…</td>\n",
              "            <td>휴일에...</td>\n",
              "            <td>12nw1206</td>\n",
              "            <td>전체</td>\n",
              "        </tr>\n",
              "        <tr>\n",
              "            <td>1229349</td>\n",
              "            <td>동물병원…</td>\n",
              "            <td>공휴일...</td>\n",
              "            <td>23wnw1206</td>\n",
              "            <td>전체</td>\n",
              "        </tr>\n",
              "        <tr>\n",
              "            <td>1930420</td>\n",
              "            <td>안녕하세요</td>\n",
              "            <td>이번에…</td>\n",
              "            <td>apple12</td>\n",
              "            <td>전체</td>\n",
              "        </tr>\n",
              "    </tbody>\n",
              "</table>"
            ]
          },
          "metadata": {},
          "execution_count": 72
        }
      ]
    },
    {
      "cell_type": "markdown",
      "source": [
        "(3) 삽입"
      ],
      "metadata": {
        "id": "sakIC8s9vqnR"
      }
    },
    {
      "cell_type": "code",
      "source": [
        "%%sql\n",
        "\n",
        "INSERT INTO posts (post_number, post_title, post_content, member_id, type)\n",
        "VALUES\n",
        "(2541292, '안녕하세요', '새로 왔어요!.', 'meow122', '고양이');"
      ],
      "metadata": {
        "colab": {
          "base_uri": "https://localhost:8080/"
        },
        "id": "kg0r1t2Uvvbe",
        "outputId": "a7439f85-998b-46ff-bb1c-f702d0679c69"
      },
      "execution_count": null,
      "outputs": [
        {
          "output_type": "stream",
          "name": "stdout",
          "text": [
            " * sqlite:///example.db\n",
            "1 rows affected.\n"
          ]
        },
        {
          "output_type": "execute_result",
          "data": {
            "text/plain": [
              "[]"
            ]
          },
          "metadata": {},
          "execution_count": 74
        }
      ]
    },
    {
      "cell_type": "markdown",
      "source": [
        "(4) 수정"
      ],
      "metadata": {
        "id": "fYuZijNdvv4w"
      }
    },
    {
      "cell_type": "code",
      "source": [
        "%%sql\n",
        "\n",
        "UPDATE posts\n",
        "SET post_title = '새로운 제목'\n",
        "WHERE post_number = 1930420;"
      ],
      "metadata": {
        "colab": {
          "base_uri": "https://localhost:8080/"
        },
        "id": "M-KhzQ93vxje",
        "outputId": "ea2f1a68-ae27-4b2f-c9cc-9f105a8459c6"
      },
      "execution_count": null,
      "outputs": [
        {
          "output_type": "stream",
          "name": "stdout",
          "text": [
            " * sqlite:///example.db\n",
            "1 rows affected.\n"
          ]
        },
        {
          "output_type": "execute_result",
          "data": {
            "text/plain": [
              "[]"
            ]
          },
          "metadata": {},
          "execution_count": 75
        }
      ]
    },
    {
      "cell_type": "markdown",
      "source": [
        " { 수정 완료 }"
      ],
      "metadata": {
        "id": "QrvZ-4FRjxa7"
      }
    },
    {
      "cell_type": "code",
      "source": [
        "%sql SELECT * FROM posts WHERE post_number = 1930420;"
      ],
      "metadata": {
        "colab": {
          "base_uri": "https://localhost:8080/",
          "height": 97
        },
        "id": "3ucesLqUjqnc",
        "outputId": "c6a4396e-e722-4a4b-9fe6-4152a3598c2b"
      },
      "execution_count": null,
      "outputs": [
        {
          "output_type": "stream",
          "name": "stdout",
          "text": [
            " * sqlite:///example.db\n",
            "Done.\n"
          ]
        },
        {
          "output_type": "execute_result",
          "data": {
            "text/plain": [
              "[(1930420, '새로운 제목', '이번에…', 'apple12', '전체')]"
            ],
            "text/html": [
              "<table>\n",
              "    <thead>\n",
              "        <tr>\n",
              "            <th>post_number</th>\n",
              "            <th>post_title</th>\n",
              "            <th>post_content</th>\n",
              "            <th>member_id</th>\n",
              "            <th>type</th>\n",
              "        </tr>\n",
              "    </thead>\n",
              "    <tbody>\n",
              "        <tr>\n",
              "            <td>1930420</td>\n",
              "            <td>새로운 제목</td>\n",
              "            <td>이번에…</td>\n",
              "            <td>apple12</td>\n",
              "            <td>전체</td>\n",
              "        </tr>\n",
              "    </tbody>\n",
              "</table>"
            ]
          },
          "metadata": {},
          "execution_count": 76
        }
      ]
    },
    {
      "cell_type": "markdown",
      "source": [
        "(5) 삭제"
      ],
      "metadata": {
        "id": "MrYhEWjZvx6B"
      }
    },
    {
      "cell_type": "code",
      "source": [
        "%sql DELETE FROM posts WHERE post_number = 1930420;"
      ],
      "metadata": {
        "colab": {
          "base_uri": "https://localhost:8080/"
        },
        "id": "rnqiwtbBvzyp",
        "outputId": "c08c83f9-b462-49b6-c4e5-e43ccc2301fc"
      },
      "execution_count": null,
      "outputs": [
        {
          "output_type": "stream",
          "name": "stdout",
          "text": [
            " * sqlite:///example.db\n",
            "1 rows affected.\n"
          ]
        },
        {
          "output_type": "execute_result",
          "data": {
            "text/plain": [
              "[]"
            ]
          },
          "metadata": {},
          "execution_count": 77
        }
      ]
    },
    {
      "cell_type": "markdown",
      "source": [
        " { 삭제 완료 }"
      ],
      "metadata": {
        "id": "8aPwml4bkO7N"
      }
    },
    {
      "cell_type": "code",
      "source": [
        "%sql SELECT * FROM posts WHERE post_number = 1930420;"
      ],
      "metadata": {
        "colab": {
          "base_uri": "https://localhost:8080/",
          "height": 76
        },
        "id": "7P2QCSWZkHwm",
        "outputId": "2d8575f5-bfd1-416a-e300-dc213771d827"
      },
      "execution_count": null,
      "outputs": [
        {
          "output_type": "stream",
          "name": "stdout",
          "text": [
            " * sqlite:///example.db\n",
            "Done.\n"
          ]
        },
        {
          "output_type": "execute_result",
          "data": {
            "text/plain": [
              "[]"
            ],
            "text/html": [
              "<table>\n",
              "    <thead>\n",
              "        <tr>\n",
              "            <th>post_number</th>\n",
              "            <th>post_title</th>\n",
              "            <th>post_content</th>\n",
              "            <th>member_id</th>\n",
              "            <th>type</th>\n",
              "        </tr>\n",
              "    </thead>\n",
              "    <tbody>\n",
              "    </tbody>\n",
              "</table>"
            ]
          },
          "metadata": {},
          "execution_count": 78
        }
      ]
    },
    {
      "cell_type": "markdown",
      "source": [
        "**'병원 검색'**\n",
        "\n",
        "\n",
        "< 시나리오 >\n",
        "1. 추천: 회원의 집 위체 주변 병원을 탐색하여 보여줌\n",
        "2. 검색: 회원이 원하는 조건을 가진 병원을 검색할 수 있음"
      ],
      "metadata": {
        "id": "03TnsTZZv3pC"
      }
    },
    {
      "cell_type": "markdown",
      "source": [
        "[ 병원 테이블 생성 ]"
      ],
      "metadata": {
        "id": "suQgDtosxD1k"
      }
    },
    {
      "cell_type": "code",
      "source": [
        "%%sql\n",
        "\n",
        "CREATE TABLE IF NOT EXISTS hospitals (\n",
        "    hospital_name TEXT NOT NULL,\n",
        "    representative_number TEXT NOT NULL,\n",
        "    address TEXT NOT NULL,\n",
        "    representative TEXT NOT NULL,\n",
        "    specialty TEXT NOT NULL\n",
        ");"
      ],
      "metadata": {
        "colab": {
          "base_uri": "https://localhost:8080/"
        },
        "id": "zDuNMrgmwQgP",
        "outputId": "a29b1beb-8437-4ee0-a485-e8aeb2e7a76f"
      },
      "execution_count": null,
      "outputs": [
        {
          "output_type": "stream",
          "name": "stdout",
          "text": [
            " * sqlite:///example.db\n",
            "Done.\n"
          ]
        },
        {
          "output_type": "execute_result",
          "data": {
            "text/plain": [
              "[]"
            ]
          },
          "metadata": {},
          "execution_count": 41
        }
      ]
    },
    {
      "cell_type": "code",
      "source": [
        "%%sql\n",
        "\n",
        "INSERT INTO hospitals (hospital_name, representative_number, address, representative, specialty)\n",
        "VALUES\n",
        "('차암동물병원', '02-1457-3592', '서울특별시 영등포구', '김하준', '견묘'),\n",
        "('늘봄동물병원', '032-1842-5725', '인천광역시 부평구', '김유화', '조류'),\n",
        "('나우동물의료센터', '051-3785-4998', '부산광역시 동래구', '이현준', '견묘'),\n",
        "('차리동물병원', '02-1237-3592', '서울특별시 구로구', '이주환', '견'),\n",
        "('봄동물병원', '032-1842-3225', '인천광역시 부평구', '유한슬', '파충류'),\n",
        "('레이크동물의료센터', '02-7582-1058', '서울특별시 송파구', '박준영', '조류');"
      ],
      "metadata": {
        "colab": {
          "base_uri": "https://localhost:8080/"
        },
        "id": "58QZFGM1wQQA",
        "outputId": "7698377b-949f-4730-d61c-806901cc3b93"
      },
      "execution_count": null,
      "outputs": [
        {
          "output_type": "stream",
          "name": "stdout",
          "text": [
            " * sqlite:///example.db\n",
            "6 rows affected.\n"
          ]
        },
        {
          "output_type": "execute_result",
          "data": {
            "text/plain": [
              "[]"
            ]
          },
          "metadata": {},
          "execution_count": 49
        }
      ]
    },
    {
      "cell_type": "markdown",
      "source": [
        "(1) 추천 ( 지역 : 서울특별시 )"
      ],
      "metadata": {
        "id": "WGFWn0Bhv3Si"
      }
    },
    {
      "cell_type": "code",
      "source": [
        "%config SqlMagic.style = '_DEPRECATED_DEFAULT'"
      ],
      "metadata": {
        "id": "wJbz0dWzeY0J"
      },
      "execution_count": null,
      "outputs": []
    },
    {
      "cell_type": "code",
      "source": [
        "%%sql\n",
        "SELECT DISTINCT hospital_name, representative_number, address, representative\n",
        "FROM hospitals\n",
        "WHERE address LIKE '서울특별시%';"
      ],
      "metadata": {
        "colab": {
          "base_uri": "https://localhost:8080/",
          "height": 139
        },
        "id": "Zp7Y5mVlwUbK",
        "outputId": "10369f68-8a84-460a-cdbb-4d7853db5a96"
      },
      "execution_count": null,
      "outputs": [
        {
          "output_type": "stream",
          "name": "stdout",
          "text": [
            " * sqlite:///example.db\n",
            "Done.\n"
          ]
        },
        {
          "output_type": "execute_result",
          "data": {
            "text/plain": [
              "[('차암동물병원', '02-1457-3592', '서울특별시 영등포구', '김하준'),\n",
              " ('차리동물병원', '02-1237-3592', '서울특별시 구로구', '이주환'),\n",
              " ('레이크동물의료센터', '02-7582-1058', '서울특별시 송파구', '박준영')]"
            ],
            "text/html": [
              "<table>\n",
              "    <thead>\n",
              "        <tr>\n",
              "            <th>hospital_name</th>\n",
              "            <th>representative_number</th>\n",
              "            <th>address</th>\n",
              "            <th>representative</th>\n",
              "        </tr>\n",
              "    </thead>\n",
              "    <tbody>\n",
              "        <tr>\n",
              "            <td>차암동물병원</td>\n",
              "            <td>02-1457-3592</td>\n",
              "            <td>서울특별시 영등포구</td>\n",
              "            <td>김하준</td>\n",
              "        </tr>\n",
              "        <tr>\n",
              "            <td>차리동물병원</td>\n",
              "            <td>02-1237-3592</td>\n",
              "            <td>서울특별시 구로구</td>\n",
              "            <td>이주환</td>\n",
              "        </tr>\n",
              "        <tr>\n",
              "            <td>레이크동물의료센터</td>\n",
              "            <td>02-7582-1058</td>\n",
              "            <td>서울특별시 송파구</td>\n",
              "            <td>박준영</td>\n",
              "        </tr>\n",
              "    </tbody>\n",
              "</table>"
            ]
          },
          "metadata": {},
          "execution_count": 46
        }
      ]
    },
    {
      "cell_type": "markdown",
      "source": [
        "(2) 검색 (specialty = 조류인 곳)"
      ],
      "metadata": {
        "id": "hyQrmosfwUsM"
      }
    },
    {
      "cell_type": "code",
      "source": [
        "%%sql\n",
        "SELECT DISTINCT hospital_name, representative_number, address, representative\n",
        "FROM hospitals\n",
        "WHERE specialty = '조류';"
      ],
      "metadata": {
        "colab": {
          "base_uri": "https://localhost:8080/",
          "height": 118
        },
        "id": "FD4nrsDgwXe2",
        "outputId": "10845404-d95c-4e19-cb57-007638dbff02"
      },
      "execution_count": null,
      "outputs": [
        {
          "output_type": "stream",
          "name": "stdout",
          "text": [
            " * sqlite:///example.db\n",
            "Done.\n"
          ]
        },
        {
          "output_type": "execute_result",
          "data": {
            "text/plain": [
              "[('늘봄동물병원', '032-1842-5725', '인천광역시 부평구', '김유화'),\n",
              " ('레이크동물의료센터', '02-7582-1058', '서울특별시 송파구', '박준영')]"
            ],
            "text/html": [
              "<table>\n",
              "    <thead>\n",
              "        <tr>\n",
              "            <th>hospital_name</th>\n",
              "            <th>representative_number</th>\n",
              "            <th>address</th>\n",
              "            <th>representative</th>\n",
              "        </tr>\n",
              "    </thead>\n",
              "    <tbody>\n",
              "        <tr>\n",
              "            <td>늘봄동물병원</td>\n",
              "            <td>032-1842-5725</td>\n",
              "            <td>인천광역시 부평구</td>\n",
              "            <td>김유화</td>\n",
              "        </tr>\n",
              "        <tr>\n",
              "            <td>레이크동물의료센터</td>\n",
              "            <td>02-7582-1058</td>\n",
              "            <td>서울특별시 송파구</td>\n",
              "            <td>박준영</td>\n",
              "        </tr>\n",
              "    </tbody>\n",
              "</table>"
            ]
          },
          "metadata": {},
          "execution_count": 50
        }
      ]
    },
    {
      "cell_type": "markdown",
      "source": [
        "**'진료'**\n",
        "\n",
        "\n",
        "< 시나리오 >\n",
        "1. 삽입 : 수의사가 진료를 볼 시 모든 정보가 저장된다.\n",
        "2. 수정 : 환자의 정보가 변경될 경우 진료 정보를 수정한다."
      ],
      "metadata": {
        "id": "BpIyRCL5wczW"
      }
    },
    {
      "cell_type": "markdown",
      "source": [
        "[ 환자 테이블 생성 ]"
      ],
      "metadata": {
        "id": "zzK7mMr5wtbN"
      }
    },
    {
      "cell_type": "code",
      "source": [
        "%%sql\n",
        "\n",
        "CREATE TABLE IF NOT EXISTS patients (\n",
        "    pet_id TEXT PRIMARY KEY,\n",
        "    pet_name TEXT NOT NULL,\n",
        "    age INTEGER NOT NULL,\n",
        "    gender TEXT NOT NULL,\n",
        "    species TEXT NOT NULL,\n",
        "    vet_id TEXT NOT NULL,\n",
        "    room_number INTEGER NOT NULL,\n",
        "    admission_date DATE NOT NULL,\n",
        "    discharge_date DATE NOT NULL,\n",
        "    treatment_id INTEGER NOT NULL,\n",
        "    hospital TEXT NOT NULL,\n",
        "    owner_id TEXT NOT NULL,\n",
        "    treatment_date DATE NOT NULL\n",
        ");"
      ],
      "metadata": {
        "colab": {
          "base_uri": "https://localhost:8080/"
        },
        "id": "0C_cX83nwtGa",
        "outputId": "81ee4d69-3ff7-4513-8313-2b9b08598b4d"
      },
      "execution_count": null,
      "outputs": [
        {
          "output_type": "stream",
          "name": "stdout",
          "text": [
            " * sqlite:///example.db\n",
            "Done.\n"
          ]
        },
        {
          "output_type": "execute_result",
          "data": {
            "text/plain": [
              "[]"
            ]
          },
          "metadata": {},
          "execution_count": 101
        }
      ]
    },
    {
      "cell_type": "code",
      "source": [
        "%%sql\n",
        "\n",
        "INSERT INTO patients (pet_id, pet_name, age, gender, species, vet_id, room_number, admission_date, discharge_date, treatment_id, hospital, owner_id, treatment_date)\n",
        "VALUES\n",
        "('1023 - 129415', '츄츄', 1, '여', '햄스터 ( 골든 햄스터 )', '023-124853', 12, '2024-09-14', '2024-09-27', 179402, '차암동물병원', 'apple12', '2024-09-14'),\n",
        "('2941 - 102423', '토리', 5, '남', '강아지 ( 말라뮤트 )', '392-129394', 8, '2024-10-01', '2024-10-03', 180294, '늘봄동물병원', 'einnsdfs57', '2024-10-01'),\n",
        "('2104 - 129342', '사랑', 3, '여', '앵무새 ( 사랑 앵무 )', '024-192458', 2, '2024-09-02', '2024-09-18', 172832, '나우동물의료센터', 'downw1206', '2024-09-02'),\n",
        "('4039 - 285739', '망고', 2, '남', '새 ( 카나리아 )', '789-456123', 3, '2024-11-05', '2024-11-20', 190485, '레이크동물의료센터', 'birdfan', '2024-11-05'),\n",
        "('5092 - 384756', '마루', 6, '여', '고양이 ( 샴 )', '234-567891', 7, '2024-12-01', '2024-12-10', 195284, '늘봄동물병원', 'catlover', '2024-11-12'),\n",
        "('2948 - 194712', '뭉치', 8, '남', '고양이 ( 러시안 블루 )', '023-238144', 10, '2024-09-08', '2024-09-30', 172983, '레이크동물의료센터', 'zdifgs39', '2024-09-08');"
      ],
      "metadata": {
        "colab": {
          "base_uri": "https://localhost:8080/"
        },
        "id": "MRK0LQuxwsie",
        "outputId": "5ac0931a-2489-46e9-e0e4-2af76229cda7"
      },
      "execution_count": null,
      "outputs": [
        {
          "output_type": "stream",
          "name": "stdout",
          "text": [
            " * sqlite:///example.db\n",
            "6 rows affected.\n"
          ]
        },
        {
          "output_type": "execute_result",
          "data": {
            "text/plain": [
              "[]"
            ]
          },
          "metadata": {},
          "execution_count": 102
        }
      ]
    },
    {
      "cell_type": "markdown",
      "source": [
        "(1) 삽입"
      ],
      "metadata": {
        "id": "ANd87Kpuwv6D"
      }
    },
    {
      "cell_type": "code",
      "source": [
        "%%sql\n",
        "\n",
        "INSERT INTO patients (pet_id, pet_name, age, gender, species, vet_id, room_number, admission_date, discharge_date, treatment_id, hospital, owner_id, treatment_date)\n",
        "VALUES\n",
        "('3057 - 295874', '코코', 4, '여', '강아지 ( 포메라니안 )', '183-412439', 5, '2024-10-10', '2024-10-15', 183294, '차암동물병원', 'doglover', '2024-10-10');"
      ],
      "metadata": {
        "colab": {
          "base_uri": "https://localhost:8080/"
        },
        "id": "CHT3TbqUw-jT",
        "outputId": "5c380bcb-e817-42a3-ab78-50ccff692dcf"
      },
      "execution_count": null,
      "outputs": [
        {
          "output_type": "stream",
          "name": "stdout",
          "text": [
            " * sqlite:///example.db\n",
            "1 rows affected.\n"
          ]
        },
        {
          "output_type": "execute_result",
          "data": {
            "text/plain": [
              "[]"
            ]
          },
          "metadata": {},
          "execution_count": 103
        }
      ]
    },
    {
      "cell_type": "code",
      "source": [
        "%sql SELECT * FROM patients"
      ],
      "metadata": {
        "colab": {
          "base_uri": "https://localhost:8080/",
          "height": 448
        },
        "id": "_diEvtOinaS6",
        "outputId": "f1906930-e5c0-49b0-8097-7a167d4d81d8"
      },
      "execution_count": null,
      "outputs": [
        {
          "output_type": "stream",
          "name": "stdout",
          "text": [
            " * sqlite:///example.db\n",
            "Done.\n"
          ]
        },
        {
          "output_type": "execute_result",
          "data": {
            "text/plain": [
              "[('1023 - 129415', '츄츄', 1, '여', '햄스터 ( 골든 햄스터 )', '023-124853', 12, '2024-09-14', '2024-09-27', 179402, '차암동물병원', 'apple12', '2024-09-14'),\n",
              " ('2941 - 102423', '토리', 5, '남', '강아지 ( 말라뮤트 )', '392-129394', 8, '2024-10-01', '2024-10-03', 180294, '늘봄동물병원', 'einnsdfs57', '2024-10-01'),\n",
              " ('2104 - 129342', '사랑', 3, '여', '앵무새 ( 사랑 앵무 )', '024-192458', 2, '2024-09-02', '2024-09-18', 172832, '나우동물의료센터', 'downw1206', '2024-09-02'),\n",
              " ('4039 - 285739', '망고', 2, '남', '새 ( 카나리아 )', '789-456123', 3, '2024-11-05', '2024-11-20', 190485, '레이크동물의료센터', 'birdfan', '2024-11-05'),\n",
              " ('5092 - 384756', '마루', 6, '여', '고양이 ( 샴 )', '234-567891', 7, '2024-12-01', '2024-12-10', 195284, '늘봄동물병원', 'catlover', '2024-11-12'),\n",
              " ('2948 - 194712', '뭉치', 8, '남', '고양이 ( 러시안 블루 )', '023-238144', 10, '2024-09-08', '2024-09-30', 172983, '레이크동물의료센터', 'zdifgs39', '2024-09-08'),\n",
              " ('3057 - 295874', '코코', 4, '여', '강아지 ( 포메라니안 )', '183-412439', 5, '2024-10-10', '2024-10-15', 183294, '차암동물병원', 'doglover', '2024-10-10')]"
            ],
            "text/html": [
              "<table>\n",
              "    <thead>\n",
              "        <tr>\n",
              "            <th>pet_id</th>\n",
              "            <th>pet_name</th>\n",
              "            <th>age</th>\n",
              "            <th>gender</th>\n",
              "            <th>species</th>\n",
              "            <th>vet_id</th>\n",
              "            <th>room_number</th>\n",
              "            <th>admission_date</th>\n",
              "            <th>discharge_date</th>\n",
              "            <th>treatment_id</th>\n",
              "            <th>hospital</th>\n",
              "            <th>owner_id</th>\n",
              "            <th>treatment_date</th>\n",
              "        </tr>\n",
              "    </thead>\n",
              "    <tbody>\n",
              "        <tr>\n",
              "            <td>1023 - 129415</td>\n",
              "            <td>츄츄</td>\n",
              "            <td>1</td>\n",
              "            <td>여</td>\n",
              "            <td>햄스터 ( 골든 햄스터 )</td>\n",
              "            <td>023-124853</td>\n",
              "            <td>12</td>\n",
              "            <td>2024-09-14</td>\n",
              "            <td>2024-09-27</td>\n",
              "            <td>179402</td>\n",
              "            <td>차암동물병원</td>\n",
              "            <td>apple12</td>\n",
              "            <td>2024-09-14</td>\n",
              "        </tr>\n",
              "        <tr>\n",
              "            <td>2941 - 102423</td>\n",
              "            <td>토리</td>\n",
              "            <td>5</td>\n",
              "            <td>남</td>\n",
              "            <td>강아지 ( 말라뮤트 )</td>\n",
              "            <td>392-129394</td>\n",
              "            <td>8</td>\n",
              "            <td>2024-10-01</td>\n",
              "            <td>2024-10-03</td>\n",
              "            <td>180294</td>\n",
              "            <td>늘봄동물병원</td>\n",
              "            <td>einnsdfs57</td>\n",
              "            <td>2024-10-01</td>\n",
              "        </tr>\n",
              "        <tr>\n",
              "            <td>2104 - 129342</td>\n",
              "            <td>사랑</td>\n",
              "            <td>3</td>\n",
              "            <td>여</td>\n",
              "            <td>앵무새 ( 사랑 앵무 )</td>\n",
              "            <td>024-192458</td>\n",
              "            <td>2</td>\n",
              "            <td>2024-09-02</td>\n",
              "            <td>2024-09-18</td>\n",
              "            <td>172832</td>\n",
              "            <td>나우동물의료센터</td>\n",
              "            <td>downw1206</td>\n",
              "            <td>2024-09-02</td>\n",
              "        </tr>\n",
              "        <tr>\n",
              "            <td>4039 - 285739</td>\n",
              "            <td>망고</td>\n",
              "            <td>2</td>\n",
              "            <td>남</td>\n",
              "            <td>새 ( 카나리아 )</td>\n",
              "            <td>789-456123</td>\n",
              "            <td>3</td>\n",
              "            <td>2024-11-05</td>\n",
              "            <td>2024-11-20</td>\n",
              "            <td>190485</td>\n",
              "            <td>레이크동물의료센터</td>\n",
              "            <td>birdfan</td>\n",
              "            <td>2024-11-05</td>\n",
              "        </tr>\n",
              "        <tr>\n",
              "            <td>5092 - 384756</td>\n",
              "            <td>마루</td>\n",
              "            <td>6</td>\n",
              "            <td>여</td>\n",
              "            <td>고양이 ( 샴 )</td>\n",
              "            <td>234-567891</td>\n",
              "            <td>7</td>\n",
              "            <td>2024-12-01</td>\n",
              "            <td>2024-12-10</td>\n",
              "            <td>195284</td>\n",
              "            <td>늘봄동물병원</td>\n",
              "            <td>catlover</td>\n",
              "            <td>2024-11-12</td>\n",
              "        </tr>\n",
              "        <tr>\n",
              "            <td>2948 - 194712</td>\n",
              "            <td>뭉치</td>\n",
              "            <td>8</td>\n",
              "            <td>남</td>\n",
              "            <td>고양이 ( 러시안 블루 )</td>\n",
              "            <td>023-238144</td>\n",
              "            <td>10</td>\n",
              "            <td>2024-09-08</td>\n",
              "            <td>2024-09-30</td>\n",
              "            <td>172983</td>\n",
              "            <td>레이크동물의료센터</td>\n",
              "            <td>zdifgs39</td>\n",
              "            <td>2024-09-08</td>\n",
              "        </tr>\n",
              "        <tr>\n",
              "            <td>3057 - 295874</td>\n",
              "            <td>코코</td>\n",
              "            <td>4</td>\n",
              "            <td>여</td>\n",
              "            <td>강아지 ( 포메라니안 )</td>\n",
              "            <td>183-412439</td>\n",
              "            <td>5</td>\n",
              "            <td>2024-10-10</td>\n",
              "            <td>2024-10-15</td>\n",
              "            <td>183294</td>\n",
              "            <td>차암동물병원</td>\n",
              "            <td>doglover</td>\n",
              "            <td>2024-10-10</td>\n",
              "        </tr>\n",
              "    </tbody>\n",
              "</table>"
            ]
          },
          "metadata": {},
          "execution_count": 104
        }
      ]
    },
    {
      "cell_type": "markdown",
      "source": [
        "(2) 수정"
      ],
      "metadata": {
        "id": "IfWVdpdrw-E6"
      }
    },
    {
      "cell_type": "code",
      "source": [
        "%sql UPDATE patients SET owner_id = 'neoewmoew12' WHERE pet_id = '023-238144';"
      ],
      "metadata": {
        "colab": {
          "base_uri": "https://localhost:8080/"
        },
        "id": "SEq92umqw_FN",
        "outputId": "32cc1591-3445-4c93-af11-7115deaf4a9b"
      },
      "execution_count": null,
      "outputs": [
        {
          "output_type": "stream",
          "name": "stdout",
          "text": [
            " * sqlite:///example.db\n",
            "0 rows affected.\n"
          ]
        },
        {
          "output_type": "execute_result",
          "data": {
            "text/plain": [
              "[]"
            ]
          },
          "metadata": {},
          "execution_count": 109
        }
      ]
    },
    {
      "cell_type": "markdown",
      "source": [],
      "metadata": {
        "id": "rkpRpirIAH3b"
      }
    },
    {
      "cell_type": "markdown",
      "source": [],
      "metadata": {
        "id": "Z1F-lq1WAIUV"
      }
    },
    {
      "cell_type": "markdown",
      "source": [],
      "metadata": {
        "id": "yYtk2kYEAIlD"
      }
    },
    {
      "cell_type": "markdown",
      "source": [],
      "metadata": {
        "id": "nzxx1utUAI-l"
      }
    }
  ]
}