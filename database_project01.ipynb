{
  "nbformat": 4,
  "nbformat_minor": 0,
  "metadata": {
    "colab": {
      "provenance": [],
      "authorship_tag": "ABX9TyPdHxDlkyEKFA/5MK9tvgUr",
      "include_colab_link": true
    },
    "kernelspec": {
      "name": "python3",
      "display_name": "Python 3"
    },
    "language_info": {
      "name": "python"
    }
  },
  "cells": [
    {
      "cell_type": "markdown",
      "metadata": {
        "id": "view-in-github",
        "colab_type": "text"
      },
      "source": [
        "<a href=\"https://colab.research.google.com/github/yoonseo04128/202321060_homework/blob/main/database_project01.ipynb\" target=\"_parent\"><img src=\"https://colab.research.google.com/assets/colab-badge.svg\" alt=\"Open In Colab\"/></a>"
      ]
    },
    {
      "cell_type": "markdown",
      "source": [
        "1. 쿠팡\n",
        "\n",
        "*   서비스 : 온라인 마트\n",
        "*   타겟기능 : 주문, 배송, 고객관리(상품 추천)\n"
      ],
      "metadata": {
        "id": "er04oy3Q47f-"
      }
    },
    {
      "cell_type": "markdown",
      "source": [
        "\n",
        "\n"
      ],
      "metadata": {
        "id": "tmwkN7jT7aX-"
      }
    },
    {
      "cell_type": "code",
      "execution_count": null,
      "metadata": {
        "id": "Jsje_FOCK4CN",
        "colab": {
          "base_uri": "https://localhost:8080/"
        },
        "outputId": "4992c7b9-3bde-48a2-bd0a-4097f8de88b7"
      },
      "outputs": [
        {
          "output_type": "stream",
          "name": "stdout",
          "text": [
            "Requirement already satisfied: ipython-sql in /usr/local/lib/python3.10/dist-packages (0.5.0)\n",
            "Requirement already satisfied: prettytable in /usr/local/lib/python3.10/dist-packages (from ipython-sql) (3.12.0)\n",
            "Requirement already satisfied: ipython in /usr/local/lib/python3.10/dist-packages (from ipython-sql) (7.34.0)\n",
            "Requirement already satisfied: sqlalchemy>=2.0 in /usr/local/lib/python3.10/dist-packages (from ipython-sql) (2.0.36)\n",
            "Requirement already satisfied: sqlparse in /usr/local/lib/python3.10/dist-packages (from ipython-sql) (0.5.2)\n",
            "Requirement already satisfied: six in /usr/local/lib/python3.10/dist-packages (from ipython-sql) (1.16.0)\n",
            "Requirement already satisfied: ipython-genutils in /usr/local/lib/python3.10/dist-packages (from ipython-sql) (0.2.0)\n",
            "Requirement already satisfied: typing-extensions>=4.6.0 in /usr/local/lib/python3.10/dist-packages (from sqlalchemy>=2.0->ipython-sql) (4.12.2)\n",
            "Requirement already satisfied: greenlet!=0.4.17 in /usr/local/lib/python3.10/dist-packages (from sqlalchemy>=2.0->ipython-sql) (3.1.1)\n",
            "Requirement already satisfied: setuptools>=18.5 in /usr/local/lib/python3.10/dist-packages (from ipython->ipython-sql) (75.1.0)\n",
            "Requirement already satisfied: jedi>=0.16 in /usr/local/lib/python3.10/dist-packages (from ipython->ipython-sql) (0.19.2)\n",
            "Requirement already satisfied: decorator in /usr/local/lib/python3.10/dist-packages (from ipython->ipython-sql) (4.4.2)\n",
            "Requirement already satisfied: pickleshare in /usr/local/lib/python3.10/dist-packages (from ipython->ipython-sql) (0.7.5)\n",
            "Requirement already satisfied: traitlets>=4.2 in /usr/local/lib/python3.10/dist-packages (from ipython->ipython-sql) (5.7.1)\n",
            "Requirement already satisfied: prompt-toolkit!=3.0.0,!=3.0.1,<3.1.0,>=2.0.0 in /usr/local/lib/python3.10/dist-packages (from ipython->ipython-sql) (3.0.48)\n",
            "Requirement already satisfied: pygments in /usr/local/lib/python3.10/dist-packages (from ipython->ipython-sql) (2.18.0)\n",
            "Requirement already satisfied: backcall in /usr/local/lib/python3.10/dist-packages (from ipython->ipython-sql) (0.2.0)\n",
            "Requirement already satisfied: matplotlib-inline in /usr/local/lib/python3.10/dist-packages (from ipython->ipython-sql) (0.1.7)\n",
            "Requirement already satisfied: pexpect>4.3 in /usr/local/lib/python3.10/dist-packages (from ipython->ipython-sql) (4.9.0)\n",
            "Requirement already satisfied: wcwidth in /usr/local/lib/python3.10/dist-packages (from prettytable->ipython-sql) (0.2.13)\n",
            "Requirement already satisfied: parso<0.9.0,>=0.8.4 in /usr/local/lib/python3.10/dist-packages (from jedi>=0.16->ipython->ipython-sql) (0.8.4)\n",
            "Requirement already satisfied: ptyprocess>=0.5 in /usr/local/lib/python3.10/dist-packages (from pexpect>4.3->ipython->ipython-sql) (0.7.0)\n"
          ]
        }
      ],
      "source": [
        "!pip install ipython-sql"
      ]
    },
    {
      "cell_type": "code",
      "source": [
        "%load_ext sql\n",
        "%sql sqlite:///example.db"
      ],
      "metadata": {
        "id": "HYvSNJJeCYrZ"
      },
      "execution_count": null,
      "outputs": []
    },
    {
      "cell_type": "code",
      "source": [
        "import prettytable\n",
        "import sql\n",
        "sql.displayoptions = {\n",
        "    'style': 'PADDING'\n",
        "}"
      ],
      "metadata": {
        "id": "9SF6V-nQqkpT"
      },
      "execution_count": null,
      "outputs": []
    },
    {
      "cell_type": "markdown",
      "source": [
        "**'주문'**\n",
        "\n",
        "\n",
        "< 시나리오 >\n",
        "1. 전체 : 모든 상품을 보여줌\n",
        "2. 검색 : 회원이 찾는 상품을 보여줌\n",
        "3. 삽입 : 회원이 주문한 상품이 주문 테이블에 삽입됨\n",
        "4. 삭제 : 회원이 주문을 취소할 경우 주문 테이블에서 주문 상품이 삭제됨"
      ],
      "metadata": {
        "id": "oE86UX-_Cic7"
      }
    },
    {
      "cell_type": "markdown",
      "source": [
        "[ 상품 테이블 생성 ]"
      ],
      "metadata": {
        "id": "-jm8Zw4tP0mq"
      }
    },
    {
      "cell_type": "code",
      "source": [
        "%%sql\n",
        "\n",
        "CREATE TABLE products (\n",
        "    product_number TEXT PRIMARY KEY,\n",
        "    product_name TEXT NOT NULL,\n",
        "    price REAL NOT NULL,\n",
        "    stock INTEGER NOT NULL,\n",
        "    discount_availability TEXT NOT NULL,\n",
        "    popular_product TEXT NOT NULL,\n",
        "    manufacturer_name TEXT NOT NULL,\n",
        "    supply_quantity INTEGER NOT NULL,\n",
        "    supply_date DATE NOT NULL\n",
        ");"
      ],
      "metadata": {
        "id": "WsL3aD19CdgE",
        "colab": {
          "base_uri": "https://localhost:8080/"
        },
        "outputId": "34025d6e-2fa1-4167-bb04-910dbafa9927"
      },
      "execution_count": null,
      "outputs": [
        {
          "output_type": "stream",
          "name": "stdout",
          "text": [
            " * sqlite:///example.db\n",
            "Done.\n"
          ]
        },
        {
          "output_type": "execute_result",
          "data": {
            "text/plain": [
              "[]"
            ]
          },
          "metadata": {},
          "execution_count": 4
        }
      ]
    },
    {
      "cell_type": "code",
      "source": [
        "%%sql\n",
        "\n",
        "INSERT INTO products (product_number, product_name, price, stock, discount_availability, popular_product, manufacturer_name, supply_quantity, supply_date)\n",
        "VALUES\n",
        "('1024-23951', '찰떡쿵파이', 5900, 23, 'o', '/', '한빛제과', 192, '2024-09-27'),\n",
        "('2393-19234', '그냥만두', 7200, 9, '/', 'o', '농삼', 50, '2024-10-03'),\n",
        "('2953-58638', '달콤 비스킷', 3000, 27, 'o', '/', '삼양주', 200, '2024-09-18'),\n",
        "('0258-41093', '리코타 치즈', 9800, 11, '/', '/', '삼양주', 100, '2024-09-30'),\n",
        "('3253-58631', '옷걸이', 9500, 40, 'o', '/', '두삼', 300, '2024-09-12'),\n",
        "('0258-46893', '오뚜 컵밥', 12800, 31, 'o', 'o', '농삼', 80, '2024-09-01');"
      ],
      "metadata": {
        "id": "i6F9sh5yC79T",
        "colab": {
          "base_uri": "https://localhost:8080/"
        },
        "outputId": "a8dda1bb-396b-4f83-db08-3e3f56a00729"
      },
      "execution_count": null,
      "outputs": [
        {
          "output_type": "stream",
          "name": "stdout",
          "text": [
            " * sqlite:///example.db\n",
            "6 rows affected.\n"
          ]
        },
        {
          "output_type": "execute_result",
          "data": {
            "text/plain": [
              "[]"
            ]
          },
          "metadata": {},
          "execution_count": 5
        }
      ]
    },
    {
      "cell_type": "markdown",
      "source": [
        "[ 주문 테이블 생성 ]"
      ],
      "metadata": {
        "id": "2ggT3rBGtnl7"
      }
    },
    {
      "cell_type": "code",
      "source": [
        "%%sql\n",
        "\n",
        "CREATE TABLE orders (\n",
        "    member_id TEXT NOT NULL,\n",
        "    product_number TEXT NOT NULL,\n",
        "    order_number TEXT PRIMARY KEY,\n",
        "    delivery_address TEXT NOT NULL,\n",
        "    order_quantity INTEGER NOT NULL,\n",
        "    order_date DATE NOT NULL,\n",
        "    FOREIGN KEY (product_number) REFERENCES products (product_number)\n",
        ");"
      ],
      "metadata": {
        "colab": {
          "base_uri": "https://localhost:8080/"
        },
        "id": "zvdtZ3pMton2",
        "outputId": "f72dc5ca-5559-4913-c267-7dcc31e092c3"
      },
      "execution_count": null,
      "outputs": [
        {
          "output_type": "stream",
          "name": "stdout",
          "text": [
            " * sqlite:///example.db\n",
            "Done.\n"
          ]
        },
        {
          "output_type": "execute_result",
          "data": {
            "text/plain": [
              "[]"
            ]
          },
          "metadata": {},
          "execution_count": 6
        }
      ]
    },
    {
      "cell_type": "code",
      "source": [
        "%%sql\n",
        "\n",
        "INSERT INTO orders (member_id, product_number, order_number, delivery_address, order_quantity, order_date)\n",
        "VALUES\n",
        "('apple12', '1024-23951', '2101-12421', '서울시 마포구', 1, '2024-09-14'),\n",
        "('einnsdfs57', '2393-19234', '1232-18294', '인천시 계양구', 1, '2024-10-01'),\n",
        "('downw1206', '1024-23951', '2921-12830', '경기도 부천시', 1, '2024-09-02'),\n",
        "('einnsdfs57', '0258-46893', '1293-18294', '인천시 계양구', 1, '2024-10-01'),\n",
        "('downw1206', '2953-58638', '2931-12830', '경기도 부천시', 1, '2024-09-02'),\n",
        "('zdifgs39', '0258-41093', '3291-18293', '부산시 금정구', 4, '2024-09-08');"
      ],
      "metadata": {
        "colab": {
          "base_uri": "https://localhost:8080/"
        },
        "id": "LyBPxMNHto2U",
        "outputId": "30e649c2-04cb-494d-98e0-91046a03f136"
      },
      "execution_count": null,
      "outputs": [
        {
          "output_type": "stream",
          "name": "stdout",
          "text": [
            " * sqlite:///example.db\n",
            "6 rows affected.\n"
          ]
        },
        {
          "output_type": "execute_result",
          "data": {
            "text/plain": [
              "[]"
            ]
          },
          "metadata": {},
          "execution_count": 7
        }
      ]
    },
    {
      "cell_type": "code",
      "source": [
        "%config SqlMagic.style = '_DEPRECATED_DEFAULT'"
      ],
      "metadata": {
        "id": "qhHpbr1TwMH6"
      },
      "execution_count": null,
      "outputs": []
    },
    {
      "cell_type": "markdown",
      "source": [
        "(1) 전체"
      ],
      "metadata": {
        "id": "YpgNeuyIQBoB"
      }
    },
    {
      "cell_type": "code",
      "source": [
        "%sql SELECT * FROM orders;"
      ],
      "metadata": {
        "id": "1HZKeVQsCs4H",
        "colab": {
          "base_uri": "https://localhost:8080/",
          "height": 202
        },
        "outputId": "e4ae3567-bab9-4291-a1cf-156a4e20dd5a"
      },
      "execution_count": null,
      "outputs": [
        {
          "output_type": "stream",
          "name": "stdout",
          "text": [
            " * sqlite:///example.db\n",
            "Done.\n"
          ]
        },
        {
          "output_type": "execute_result",
          "data": {
            "text/plain": [
              "[('apple12', '1024-23951', '2101-12421', '서울시 마포구', 1, '2024-09-14'),\n",
              " ('einnsdfs57', '2393-19234', '1232-18294', '인천시 계양구', 1, '2024-10-01'),\n",
              " ('downw1206', '1024-23951', '2921-12830', '경기도 부천시', 1, '2024-09-02'),\n",
              " ('einnsdfs57', '0258-46893', '1293-18294', '인천시 계양구', 1, '2024-10-01'),\n",
              " ('downw1206', '2953-58638', '2931-12830', '경기도 부천시', 1, '2024-09-02'),\n",
              " ('zdifgs39', '0258-41093', '3291-18293', '부산시 금정구', 4, '2024-09-08')]"
            ],
            "text/html": [
              "<table>\n",
              "    <thead>\n",
              "        <tr>\n",
              "            <th>member_id</th>\n",
              "            <th>product_number</th>\n",
              "            <th>order_number</th>\n",
              "            <th>delivery_address</th>\n",
              "            <th>order_quantity</th>\n",
              "            <th>order_date</th>\n",
              "        </tr>\n",
              "    </thead>\n",
              "    <tbody>\n",
              "        <tr>\n",
              "            <td>apple12</td>\n",
              "            <td>1024-23951</td>\n",
              "            <td>2101-12421</td>\n",
              "            <td>서울시 마포구</td>\n",
              "            <td>1</td>\n",
              "            <td>2024-09-14</td>\n",
              "        </tr>\n",
              "        <tr>\n",
              "            <td>einnsdfs57</td>\n",
              "            <td>2393-19234</td>\n",
              "            <td>1232-18294</td>\n",
              "            <td>인천시 계양구</td>\n",
              "            <td>1</td>\n",
              "            <td>2024-10-01</td>\n",
              "        </tr>\n",
              "        <tr>\n",
              "            <td>downw1206</td>\n",
              "            <td>1024-23951</td>\n",
              "            <td>2921-12830</td>\n",
              "            <td>경기도 부천시</td>\n",
              "            <td>1</td>\n",
              "            <td>2024-09-02</td>\n",
              "        </tr>\n",
              "        <tr>\n",
              "            <td>einnsdfs57</td>\n",
              "            <td>0258-46893</td>\n",
              "            <td>1293-18294</td>\n",
              "            <td>인천시 계양구</td>\n",
              "            <td>1</td>\n",
              "            <td>2024-10-01</td>\n",
              "        </tr>\n",
              "        <tr>\n",
              "            <td>downw1206</td>\n",
              "            <td>2953-58638</td>\n",
              "            <td>2931-12830</td>\n",
              "            <td>경기도 부천시</td>\n",
              "            <td>1</td>\n",
              "            <td>2024-09-02</td>\n",
              "        </tr>\n",
              "        <tr>\n",
              "            <td>zdifgs39</td>\n",
              "            <td>0258-41093</td>\n",
              "            <td>3291-18293</td>\n",
              "            <td>부산시 금정구</td>\n",
              "            <td>4</td>\n",
              "            <td>2024-09-08</td>\n",
              "        </tr>\n",
              "    </tbody>\n",
              "</table>"
            ]
          },
          "metadata": {},
          "execution_count": 10
        }
      ]
    },
    {
      "cell_type": "markdown",
      "source": [
        "(2) 검색"
      ],
      "metadata": {
        "id": "gBh13ELHCd3A"
      }
    },
    {
      "cell_type": "code",
      "source": [
        "%sql SELECT * FROM products WHERE product_name = '오뚜 컵밥';"
      ],
      "metadata": {
        "id": "q7w_G3doQFlx",
        "colab": {
          "base_uri": "https://localhost:8080/",
          "height": 117
        },
        "outputId": "9b38e16c-3d4d-44d1-d6e6-e1c3d31fd980"
      },
      "execution_count": null,
      "outputs": [
        {
          "output_type": "stream",
          "name": "stdout",
          "text": [
            " * sqlite:///example.db\n",
            "Done.\n"
          ]
        },
        {
          "output_type": "execute_result",
          "data": {
            "text/plain": [
              "[('0258-46893', '오뚜 컵밥', 12800.0, 31, 'o', 'o', '농삼', 80, '2024-09-01')]"
            ],
            "text/html": [
              "<table>\n",
              "    <thead>\n",
              "        <tr>\n",
              "            <th>product_number</th>\n",
              "            <th>product_name</th>\n",
              "            <th>price</th>\n",
              "            <th>stock</th>\n",
              "            <th>discount_availability</th>\n",
              "            <th>popular_product</th>\n",
              "            <th>manufacturer_name</th>\n",
              "            <th>supply_quantity</th>\n",
              "            <th>supply_date</th>\n",
              "        </tr>\n",
              "    </thead>\n",
              "    <tbody>\n",
              "        <tr>\n",
              "            <td>0258-46893</td>\n",
              "            <td>오뚜 컵밥</td>\n",
              "            <td>12800.0</td>\n",
              "            <td>31</td>\n",
              "            <td>o</td>\n",
              "            <td>o</td>\n",
              "            <td>농삼</td>\n",
              "            <td>80</td>\n",
              "            <td>2024-09-01</td>\n",
              "        </tr>\n",
              "    </tbody>\n",
              "</table>"
            ]
          },
          "metadata": {},
          "execution_count": 11
        }
      ]
    },
    {
      "cell_type": "markdown",
      "source": [
        "(3) 삽입"
      ],
      "metadata": {
        "id": "qLcfNWqH7Yf-"
      }
    },
    {
      "cell_type": "code",
      "source": [
        "%%sql\n",
        "\n",
        "INSERT INTO orders (member_id, product_number, order_number, delivery_address, order_quantity, order_date)\n",
        "VALUES\n",
        "('nnwowq133', '0258-41093', '4751-22432', '대전광역시 서구', 2, '2024-11-03');"
      ],
      "metadata": {
        "id": "RsNjE_FWQI5O",
        "colab": {
          "base_uri": "https://localhost:8080/"
        },
        "outputId": "2554d677-83bf-48e8-d04e-70043064c7c5"
      },
      "execution_count": null,
      "outputs": [
        {
          "output_type": "stream",
          "name": "stdout",
          "text": [
            " * sqlite:///example.db\n",
            "1 rows affected.\n"
          ]
        },
        {
          "output_type": "execute_result",
          "data": {
            "text/plain": [
              "[]"
            ]
          },
          "metadata": {},
          "execution_count": 12
        }
      ]
    },
    {
      "cell_type": "code",
      "source": [
        "%sql SELECT * FROM orders;"
      ],
      "metadata": {
        "colab": {
          "base_uri": "https://localhost:8080/",
          "height": 223
        },
        "id": "smUbEQPrvxCm",
        "outputId": "e14ca2ea-ecdf-41c1-d7d2-6a1ad04c2528"
      },
      "execution_count": null,
      "outputs": [
        {
          "output_type": "stream",
          "name": "stdout",
          "text": [
            " * sqlite:///example.db\n",
            "Done.\n"
          ]
        },
        {
          "output_type": "execute_result",
          "data": {
            "text/plain": [
              "[('apple12', '1024-23951', '2101-12421', '서울시 마포구', 1, '2024-09-14'),\n",
              " ('einnsdfs57', '2393-19234', '1232-18294', '인천시 계양구', 1, '2024-10-01'),\n",
              " ('downw1206', '1024-23951', '2921-12830', '경기도 부천시', 1, '2024-09-02'),\n",
              " ('einnsdfs57', '0258-46893', '1293-18294', '인천시 계양구', 1, '2024-10-01'),\n",
              " ('downw1206', '2953-58638', '2931-12830', '경기도 부천시', 1, '2024-09-02'),\n",
              " ('zdifgs39', '0258-41093', '3291-18293', '부산시 금정구', 4, '2024-09-08'),\n",
              " ('nnwowq133', '0258-41093', '4751-22432', '대전광역시 서구', 2, '2024-11-03')]"
            ],
            "text/html": [
              "<table>\n",
              "    <thead>\n",
              "        <tr>\n",
              "            <th>member_id</th>\n",
              "            <th>product_number</th>\n",
              "            <th>order_number</th>\n",
              "            <th>delivery_address</th>\n",
              "            <th>order_quantity</th>\n",
              "            <th>order_date</th>\n",
              "        </tr>\n",
              "    </thead>\n",
              "    <tbody>\n",
              "        <tr>\n",
              "            <td>apple12</td>\n",
              "            <td>1024-23951</td>\n",
              "            <td>2101-12421</td>\n",
              "            <td>서울시 마포구</td>\n",
              "            <td>1</td>\n",
              "            <td>2024-09-14</td>\n",
              "        </tr>\n",
              "        <tr>\n",
              "            <td>einnsdfs57</td>\n",
              "            <td>2393-19234</td>\n",
              "            <td>1232-18294</td>\n",
              "            <td>인천시 계양구</td>\n",
              "            <td>1</td>\n",
              "            <td>2024-10-01</td>\n",
              "        </tr>\n",
              "        <tr>\n",
              "            <td>downw1206</td>\n",
              "            <td>1024-23951</td>\n",
              "            <td>2921-12830</td>\n",
              "            <td>경기도 부천시</td>\n",
              "            <td>1</td>\n",
              "            <td>2024-09-02</td>\n",
              "        </tr>\n",
              "        <tr>\n",
              "            <td>einnsdfs57</td>\n",
              "            <td>0258-46893</td>\n",
              "            <td>1293-18294</td>\n",
              "            <td>인천시 계양구</td>\n",
              "            <td>1</td>\n",
              "            <td>2024-10-01</td>\n",
              "        </tr>\n",
              "        <tr>\n",
              "            <td>downw1206</td>\n",
              "            <td>2953-58638</td>\n",
              "            <td>2931-12830</td>\n",
              "            <td>경기도 부천시</td>\n",
              "            <td>1</td>\n",
              "            <td>2024-09-02</td>\n",
              "        </tr>\n",
              "        <tr>\n",
              "            <td>zdifgs39</td>\n",
              "            <td>0258-41093</td>\n",
              "            <td>3291-18293</td>\n",
              "            <td>부산시 금정구</td>\n",
              "            <td>4</td>\n",
              "            <td>2024-09-08</td>\n",
              "        </tr>\n",
              "        <tr>\n",
              "            <td>nnwowq133</td>\n",
              "            <td>0258-41093</td>\n",
              "            <td>4751-22432</td>\n",
              "            <td>대전광역시 서구</td>\n",
              "            <td>2</td>\n",
              "            <td>2024-11-03</td>\n",
              "        </tr>\n",
              "    </tbody>\n",
              "</table>"
            ]
          },
          "metadata": {},
          "execution_count": 13
        }
      ]
    },
    {
      "cell_type": "markdown",
      "source": [
        "(4) 삭제"
      ],
      "metadata": {
        "id": "W09T_hvR6vPj"
      }
    },
    {
      "cell_type": "code",
      "source": [
        "%sql DELETE FROM orders WHERE order_number = '2101-12421';"
      ],
      "metadata": {
        "id": "kSCKpPjBQSYU",
        "colab": {
          "base_uri": "https://localhost:8080/"
        },
        "outputId": "43e2e077-7fcd-46fe-a8af-0ab35e741e62"
      },
      "execution_count": null,
      "outputs": [
        {
          "output_type": "stream",
          "name": "stdout",
          "text": [
            " * sqlite:///example.db\n",
            "1 rows affected.\n"
          ]
        },
        {
          "output_type": "execute_result",
          "data": {
            "text/plain": [
              "[]"
            ]
          },
          "metadata": {},
          "execution_count": 16
        }
      ]
    },
    {
      "cell_type": "code",
      "source": [
        "%sql SELECT * FROM orders;"
      ],
      "metadata": {
        "colab": {
          "base_uri": "https://localhost:8080/",
          "height": 202
        },
        "id": "-nZzLpTav5L6",
        "outputId": "72ec1c90-6bf1-40ed-96b9-bf04eb711684"
      },
      "execution_count": null,
      "outputs": [
        {
          "output_type": "stream",
          "name": "stdout",
          "text": [
            " * sqlite:///example.db\n",
            "Done.\n"
          ]
        },
        {
          "output_type": "execute_result",
          "data": {
            "text/plain": [
              "[('einnsdfs57', '2393-19234', '1232-18294', '인천시 계양구', 1, '2024-10-01'),\n",
              " ('downw1206', '1024-23951', '2921-12830', '경기도 부천시', 1, '2024-09-02'),\n",
              " ('einnsdfs57', '0258-46893', '1293-18294', '인천시 계양구', 1, '2024-10-01'),\n",
              " ('downw1206', '2953-58638', '2931-12830', '경기도 부천시', 1, '2024-09-02'),\n",
              " ('zdifgs39', '0258-41093', '3291-18293', '부산시 금정구', 4, '2024-09-08'),\n",
              " ('nnwowq133', '0258-41093', '4751-22432', '대전광역시 서구', 2, '2024-11-03')]"
            ],
            "text/html": [
              "<table>\n",
              "    <thead>\n",
              "        <tr>\n",
              "            <th>member_id</th>\n",
              "            <th>product_number</th>\n",
              "            <th>order_number</th>\n",
              "            <th>delivery_address</th>\n",
              "            <th>order_quantity</th>\n",
              "            <th>order_date</th>\n",
              "        </tr>\n",
              "    </thead>\n",
              "    <tbody>\n",
              "        <tr>\n",
              "            <td>einnsdfs57</td>\n",
              "            <td>2393-19234</td>\n",
              "            <td>1232-18294</td>\n",
              "            <td>인천시 계양구</td>\n",
              "            <td>1</td>\n",
              "            <td>2024-10-01</td>\n",
              "        </tr>\n",
              "        <tr>\n",
              "            <td>downw1206</td>\n",
              "            <td>1024-23951</td>\n",
              "            <td>2921-12830</td>\n",
              "            <td>경기도 부천시</td>\n",
              "            <td>1</td>\n",
              "            <td>2024-09-02</td>\n",
              "        </tr>\n",
              "        <tr>\n",
              "            <td>einnsdfs57</td>\n",
              "            <td>0258-46893</td>\n",
              "            <td>1293-18294</td>\n",
              "            <td>인천시 계양구</td>\n",
              "            <td>1</td>\n",
              "            <td>2024-10-01</td>\n",
              "        </tr>\n",
              "        <tr>\n",
              "            <td>downw1206</td>\n",
              "            <td>2953-58638</td>\n",
              "            <td>2931-12830</td>\n",
              "            <td>경기도 부천시</td>\n",
              "            <td>1</td>\n",
              "            <td>2024-09-02</td>\n",
              "        </tr>\n",
              "        <tr>\n",
              "            <td>zdifgs39</td>\n",
              "            <td>0258-41093</td>\n",
              "            <td>3291-18293</td>\n",
              "            <td>부산시 금정구</td>\n",
              "            <td>4</td>\n",
              "            <td>2024-09-08</td>\n",
              "        </tr>\n",
              "        <tr>\n",
              "            <td>nnwowq133</td>\n",
              "            <td>0258-41093</td>\n",
              "            <td>4751-22432</td>\n",
              "            <td>대전광역시 서구</td>\n",
              "            <td>2</td>\n",
              "            <td>2024-11-03</td>\n",
              "        </tr>\n",
              "    </tbody>\n",
              "</table>"
            ]
          },
          "metadata": {},
          "execution_count": 17
        }
      ]
    },
    {
      "cell_type": "markdown",
      "source": [
        "**'배송관리'**\n",
        "\n",
        "\n",
        "< 시나리오 >\n",
        "1. 분류 : 주문이 들어온 상품을 지역별로 정리함\n",
        "2. 검색 : 특정 배달원의 배송 상품과 지역 검색\n",
        "3. 수정 : 배송 지역이 변경될 시 상품의 배송 지역을 수정함\n",
        "4. 삭제 : 주문이 취소될 경우 그 상품의 정보가 전부 삭제됨"
      ],
      "metadata": {
        "id": "bMZs_H6u6GhJ"
      }
    },
    {
      "cell_type": "markdown",
      "source": [
        "[ 배송 테이블 생성 ]"
      ],
      "metadata": {
        "id": "HVB4jGXyS87u"
      }
    },
    {
      "cell_type": "code",
      "source": [
        "%sql drop table delivery;"
      ],
      "metadata": {
        "colab": {
          "base_uri": "https://localhost:8080/"
        },
        "id": "U1MDyDWx06yo",
        "outputId": "4c8583a1-266f-4012-b9d4-6b0d60b4f5ad"
      },
      "execution_count": null,
      "outputs": [
        {
          "output_type": "stream",
          "name": "stdout",
          "text": [
            " * sqlite:///example.db\n",
            "Done.\n"
          ]
        },
        {
          "output_type": "execute_result",
          "data": {
            "text/plain": [
              "[]"
            ]
          },
          "metadata": {},
          "execution_count": 37
        }
      ]
    },
    {
      "cell_type": "code",
      "source": [
        "%%sql\n",
        "\n",
        "CREATE TABLE delivery (\n",
        "    order_number TEXT PRIMARY KEY,\n",
        "    delivery_id TEXT NOT NULL,\n",
        "    delivery_name TEXT NOT NULL,\n",
        "    phone_number TEXT NOT NULL,\n",
        "    delivery_address TEXT NOT NULL,\n",
        "    truck_number TEXT NOT NULL,\n",
        "    manager_id TEXT NOT NULL\n",
        ");"
      ],
      "metadata": {
        "id": "MgXWTRvcS2zd",
        "colab": {
          "base_uri": "https://localhost:8080/"
        },
        "outputId": "2844d847-010a-4f97-9385-f0d23b1f6e96"
      },
      "execution_count": null,
      "outputs": [
        {
          "output_type": "stream",
          "name": "stdout",
          "text": [
            " * sqlite:///example.db\n",
            "Done.\n"
          ]
        },
        {
          "output_type": "execute_result",
          "data": {
            "text/plain": [
              "[]"
            ]
          },
          "metadata": {},
          "execution_count": 38
        }
      ]
    },
    {
      "cell_type": "code",
      "source": [
        "%%sql\n",
        "\n",
        "INSERT INTO delivery (delivery_id, delivery_name, phone_number, delivery_address, truck_number, manager_id, order_number)\n",
        "VALUES\n",
        "('938-348592', '현주환', '010-3852-5783', '서울시 마포구', '824로 2972', '023-124853', '2101-12421'),\n",
        "('903-282842', '김아훈', '010-2952-9784', '인천시 계양구', '295가 0148', '392-129394', '1293-18294'),\n",
        "('912-357235', '이연준', '010-5823-7785', '경기도 부천시', '194마 1847', '024-192458', '2921-12830'),\n",
        "('924-156823', '박서준', '010-4852-1296', '부산시 금정구', '925로 9124', '023-238144', '3291-18293'),\n",
        "('912-357235', '이연준', '010-5823-7785', '경기도 부천시', '194마 1847', '024-192458', '2931-12830'),\n",
        "('903-282842', '김아훈', '010-2952-9784', '인천시 계양구', '295가 0148', '392-129394', '1232-18294');"
      ],
      "metadata": {
        "id": "0St6bP8qTAwf",
        "colab": {
          "base_uri": "https://localhost:8080/"
        },
        "outputId": "428a8d68-379a-49bf-a81c-af306c2a7743"
      },
      "execution_count": null,
      "outputs": [
        {
          "output_type": "stream",
          "name": "stdout",
          "text": [
            " * sqlite:///example.db\n",
            "6 rows affected.\n"
          ]
        },
        {
          "output_type": "execute_result",
          "data": {
            "text/plain": [
              "[]"
            ]
          },
          "metadata": {},
          "execution_count": 39
        }
      ]
    },
    {
      "cell_type": "markdown",
      "source": [
        "(1) 분류"
      ],
      "metadata": {
        "id": "WWU5_Gf9TB-C"
      }
    },
    {
      "cell_type": "code",
      "source": [
        "%sql SELECT * FROM delivery WHERE delivery_address LIKE '경기도%';"
      ],
      "metadata": {
        "id": "uVZhzatTTBdc",
        "colab": {
          "base_uri": "https://localhost:8080/",
          "height": 118
        },
        "outputId": "eea5dbd7-6de7-4488-a1aa-a6e62083a923"
      },
      "execution_count": null,
      "outputs": [
        {
          "output_type": "stream",
          "name": "stdout",
          "text": [
            " * sqlite:///example.db\n",
            "Done.\n"
          ]
        },
        {
          "output_type": "execute_result",
          "data": {
            "text/plain": [
              "[('2921-12830', '912-357235', '이연준', '010-5823-7785', '경기도 부천시', '194마 1847', '024-192458'),\n",
              " ('2931-12830', '912-357235', '이연준', '010-5823-7785', '경기도 부천시', '194마 1847', '024-192458')]"
            ],
            "text/html": [
              "<table>\n",
              "    <thead>\n",
              "        <tr>\n",
              "            <th>order_number</th>\n",
              "            <th>delivery_id</th>\n",
              "            <th>delivery_name</th>\n",
              "            <th>phone_number</th>\n",
              "            <th>delivery_address</th>\n",
              "            <th>truck_number</th>\n",
              "            <th>manager_id</th>\n",
              "        </tr>\n",
              "    </thead>\n",
              "    <tbody>\n",
              "        <tr>\n",
              "            <td>2921-12830</td>\n",
              "            <td>912-357235</td>\n",
              "            <td>이연준</td>\n",
              "            <td>010-5823-7785</td>\n",
              "            <td>경기도 부천시</td>\n",
              "            <td>194마 1847</td>\n",
              "            <td>024-192458</td>\n",
              "        </tr>\n",
              "        <tr>\n",
              "            <td>2931-12830</td>\n",
              "            <td>912-357235</td>\n",
              "            <td>이연준</td>\n",
              "            <td>010-5823-7785</td>\n",
              "            <td>경기도 부천시</td>\n",
              "            <td>194마 1847</td>\n",
              "            <td>024-192458</td>\n",
              "        </tr>\n",
              "    </tbody>\n",
              "</table>"
            ]
          },
          "metadata": {},
          "execution_count": 40
        }
      ]
    },
    {
      "cell_type": "markdown",
      "source": [
        "(2) 검색"
      ],
      "metadata": {
        "id": "jZvbAuCMTBMq"
      }
    },
    {
      "cell_type": "code",
      "source": [
        "%sql SELECT * FROM delivery WHERE delivery_id LIKE '912-357235';"
      ],
      "metadata": {
        "id": "Ys2MXK0yTGIy",
        "colab": {
          "base_uri": "https://localhost:8080/",
          "height": 118
        },
        "outputId": "9738c877-eabd-44df-f0dd-12df8f262980"
      },
      "execution_count": null,
      "outputs": [
        {
          "output_type": "stream",
          "name": "stdout",
          "text": [
            " * sqlite:///example.db\n",
            "Done.\n"
          ]
        },
        {
          "output_type": "execute_result",
          "data": {
            "text/plain": [
              "[('2921-12830', '912-357235', '이연준', '010-5823-7785', '경기도 부천시', '194마 1847', '024-192458'),\n",
              " ('2931-12830', '912-357235', '이연준', '010-5823-7785', '경기도 부천시', '194마 1847', '024-192458')]"
            ],
            "text/html": [
              "<table>\n",
              "    <thead>\n",
              "        <tr>\n",
              "            <th>order_number</th>\n",
              "            <th>delivery_id</th>\n",
              "            <th>delivery_name</th>\n",
              "            <th>phone_number</th>\n",
              "            <th>delivery_address</th>\n",
              "            <th>truck_number</th>\n",
              "            <th>manager_id</th>\n",
              "        </tr>\n",
              "    </thead>\n",
              "    <tbody>\n",
              "        <tr>\n",
              "            <td>2921-12830</td>\n",
              "            <td>912-357235</td>\n",
              "            <td>이연준</td>\n",
              "            <td>010-5823-7785</td>\n",
              "            <td>경기도 부천시</td>\n",
              "            <td>194마 1847</td>\n",
              "            <td>024-192458</td>\n",
              "        </tr>\n",
              "        <tr>\n",
              "            <td>2931-12830</td>\n",
              "            <td>912-357235</td>\n",
              "            <td>이연준</td>\n",
              "            <td>010-5823-7785</td>\n",
              "            <td>경기도 부천시</td>\n",
              "            <td>194마 1847</td>\n",
              "            <td>024-192458</td>\n",
              "        </tr>\n",
              "    </tbody>\n",
              "</table>"
            ]
          },
          "metadata": {},
          "execution_count": 41
        }
      ]
    },
    {
      "cell_type": "markdown",
      "source": [
        "(3) 수정"
      ],
      "metadata": {
        "id": "kRnmbhOV46o6"
      }
    },
    {
      "cell_type": "code",
      "source": [
        "%%sql\n",
        "UPDATE delivery\n",
        "SET delivery_address = '서울시 종로구',\n",
        "    delivery_id = '938-3485921',\n",
        "    delivery_name = '현주환',\n",
        "    phone_number = '010-3852-5783',\n",
        "    truck_number = '824로 2972'\n",
        "WHERE order_number = '3291-18293';"
      ],
      "metadata": {
        "id": "RiIbXN1uTMo_",
        "colab": {
          "base_uri": "https://localhost:8080/"
        },
        "outputId": "1e1e72f9-22dd-43bb-a29b-843698632b23"
      },
      "execution_count": null,
      "outputs": [
        {
          "output_type": "stream",
          "name": "stdout",
          "text": [
            " * sqlite:///example.db\n",
            "1 rows affected.\n"
          ]
        },
        {
          "output_type": "execute_result",
          "data": {
            "text/plain": [
              "[]"
            ]
          },
          "metadata": {},
          "execution_count": 42
        }
      ]
    },
    {
      "cell_type": "code",
      "source": [
        "%sql SELECT * FROM delivery;"
      ],
      "metadata": {
        "colab": {
          "base_uri": "https://localhost:8080/",
          "height": 202
        },
        "id": "YXkQ0qOP0lua",
        "outputId": "9fe5732e-e7d9-46ae-99ad-ea00516077de"
      },
      "execution_count": null,
      "outputs": [
        {
          "output_type": "stream",
          "name": "stdout",
          "text": [
            " * sqlite:///example.db\n",
            "Done.\n"
          ]
        },
        {
          "output_type": "execute_result",
          "data": {
            "text/plain": [
              "[('2101-12421', '938-348592', '현주환', '010-3852-5783', '서울시 마포구', '824로 2972', '023-124853'),\n",
              " ('1293-18294', '903-282842', '김아훈', '010-2952-9784', '인천시 계양구', '295가 0148', '392-129394'),\n",
              " ('2921-12830', '912-357235', '이연준', '010-5823-7785', '경기도 부천시', '194마 1847', '024-192458'),\n",
              " ('3291-18293', '938-3485921', '현주환', '010-3852-5783', '서울시 종로구', '824로 2972', '023-238144'),\n",
              " ('2931-12830', '912-357235', '이연준', '010-5823-7785', '경기도 부천시', '194마 1847', '024-192458'),\n",
              " ('1232-18294', '903-282842', '김아훈', '010-2952-9784', '인천시 계양구', '295가 0148', '392-129394')]"
            ],
            "text/html": [
              "<table>\n",
              "    <thead>\n",
              "        <tr>\n",
              "            <th>order_number</th>\n",
              "            <th>delivery_id</th>\n",
              "            <th>delivery_name</th>\n",
              "            <th>phone_number</th>\n",
              "            <th>delivery_address</th>\n",
              "            <th>truck_number</th>\n",
              "            <th>manager_id</th>\n",
              "        </tr>\n",
              "    </thead>\n",
              "    <tbody>\n",
              "        <tr>\n",
              "            <td>2101-12421</td>\n",
              "            <td>938-348592</td>\n",
              "            <td>현주환</td>\n",
              "            <td>010-3852-5783</td>\n",
              "            <td>서울시 마포구</td>\n",
              "            <td>824로 2972</td>\n",
              "            <td>023-124853</td>\n",
              "        </tr>\n",
              "        <tr>\n",
              "            <td>1293-18294</td>\n",
              "            <td>903-282842</td>\n",
              "            <td>김아훈</td>\n",
              "            <td>010-2952-9784</td>\n",
              "            <td>인천시 계양구</td>\n",
              "            <td>295가 0148</td>\n",
              "            <td>392-129394</td>\n",
              "        </tr>\n",
              "        <tr>\n",
              "            <td>2921-12830</td>\n",
              "            <td>912-357235</td>\n",
              "            <td>이연준</td>\n",
              "            <td>010-5823-7785</td>\n",
              "            <td>경기도 부천시</td>\n",
              "            <td>194마 1847</td>\n",
              "            <td>024-192458</td>\n",
              "        </tr>\n",
              "        <tr>\n",
              "            <td>3291-18293</td>\n",
              "            <td>938-3485921</td>\n",
              "            <td>현주환</td>\n",
              "            <td>010-3852-5783</td>\n",
              "            <td>서울시 종로구</td>\n",
              "            <td>824로 2972</td>\n",
              "            <td>023-238144</td>\n",
              "        </tr>\n",
              "        <tr>\n",
              "            <td>2931-12830</td>\n",
              "            <td>912-357235</td>\n",
              "            <td>이연준</td>\n",
              "            <td>010-5823-7785</td>\n",
              "            <td>경기도 부천시</td>\n",
              "            <td>194마 1847</td>\n",
              "            <td>024-192458</td>\n",
              "        </tr>\n",
              "        <tr>\n",
              "            <td>1232-18294</td>\n",
              "            <td>903-282842</td>\n",
              "            <td>김아훈</td>\n",
              "            <td>010-2952-9784</td>\n",
              "            <td>인천시 계양구</td>\n",
              "            <td>295가 0148</td>\n",
              "            <td>392-129394</td>\n",
              "        </tr>\n",
              "    </tbody>\n",
              "</table>"
            ]
          },
          "metadata": {},
          "execution_count": 43
        }
      ]
    },
    {
      "cell_type": "markdown",
      "source": [
        "(4) 삭제"
      ],
      "metadata": {
        "id": "MgqIGb_pTzum"
      }
    },
    {
      "cell_type": "code",
      "source": [
        "%sql DELETE FROM delivery WHERE order_number = '1293-18294';"
      ],
      "metadata": {
        "id": "o_lKuS6rTzTA",
        "colab": {
          "base_uri": "https://localhost:8080/"
        },
        "outputId": "fe3eb3ed-1347-4ac0-a05d-6ee684aa46d8"
      },
      "execution_count": null,
      "outputs": [
        {
          "output_type": "stream",
          "name": "stdout",
          "text": [
            " * sqlite:///example.db\n",
            "1 rows affected.\n"
          ]
        },
        {
          "output_type": "execute_result",
          "data": {
            "text/plain": [
              "[]"
            ]
          },
          "metadata": {},
          "execution_count": 47
        }
      ]
    },
    {
      "cell_type": "code",
      "source": [
        "%sql SELECT * FROM delivery;"
      ],
      "metadata": {
        "colab": {
          "base_uri": "https://localhost:8080/",
          "height": 181
        },
        "id": "T4gN1nMO0leH",
        "outputId": "400d441b-835c-4ab9-eaf3-bc8a667608fd"
      },
      "execution_count": null,
      "outputs": [
        {
          "output_type": "stream",
          "name": "stdout",
          "text": [
            " * sqlite:///example.db\n",
            "Done.\n"
          ]
        },
        {
          "output_type": "execute_result",
          "data": {
            "text/plain": [
              "[('2101-12421', '938-348592', '현주환', '010-3852-5783', '서울시 마포구', '824로 2972', '023-124853'),\n",
              " ('2921-12830', '912-357235', '이연준', '010-5823-7785', '경기도 부천시', '194마 1847', '024-192458'),\n",
              " ('3291-18293', '938-3485921', '현주환', '010-3852-5783', '서울시 종로구', '824로 2972', '023-238144'),\n",
              " ('2931-12830', '912-357235', '이연준', '010-5823-7785', '경기도 부천시', '194마 1847', '024-192458'),\n",
              " ('1232-18294', '903-282842', '김아훈', '010-2952-9784', '인천시 계양구', '295가 0148', '392-129394')]"
            ],
            "text/html": [
              "<table>\n",
              "    <thead>\n",
              "        <tr>\n",
              "            <th>order_number</th>\n",
              "            <th>delivery_id</th>\n",
              "            <th>delivery_name</th>\n",
              "            <th>phone_number</th>\n",
              "            <th>delivery_address</th>\n",
              "            <th>truck_number</th>\n",
              "            <th>manager_id</th>\n",
              "        </tr>\n",
              "    </thead>\n",
              "    <tbody>\n",
              "        <tr>\n",
              "            <td>2101-12421</td>\n",
              "            <td>938-348592</td>\n",
              "            <td>현주환</td>\n",
              "            <td>010-3852-5783</td>\n",
              "            <td>서울시 마포구</td>\n",
              "            <td>824로 2972</td>\n",
              "            <td>023-124853</td>\n",
              "        </tr>\n",
              "        <tr>\n",
              "            <td>2921-12830</td>\n",
              "            <td>912-357235</td>\n",
              "            <td>이연준</td>\n",
              "            <td>010-5823-7785</td>\n",
              "            <td>경기도 부천시</td>\n",
              "            <td>194마 1847</td>\n",
              "            <td>024-192458</td>\n",
              "        </tr>\n",
              "        <tr>\n",
              "            <td>3291-18293</td>\n",
              "            <td>938-3485921</td>\n",
              "            <td>현주환</td>\n",
              "            <td>010-3852-5783</td>\n",
              "            <td>서울시 종로구</td>\n",
              "            <td>824로 2972</td>\n",
              "            <td>023-238144</td>\n",
              "        </tr>\n",
              "        <tr>\n",
              "            <td>2931-12830</td>\n",
              "            <td>912-357235</td>\n",
              "            <td>이연준</td>\n",
              "            <td>010-5823-7785</td>\n",
              "            <td>경기도 부천시</td>\n",
              "            <td>194마 1847</td>\n",
              "            <td>024-192458</td>\n",
              "        </tr>\n",
              "        <tr>\n",
              "            <td>1232-18294</td>\n",
              "            <td>903-282842</td>\n",
              "            <td>김아훈</td>\n",
              "            <td>010-2952-9784</td>\n",
              "            <td>인천시 계양구</td>\n",
              "            <td>295가 0148</td>\n",
              "            <td>392-129394</td>\n",
              "        </tr>\n",
              "    </tbody>\n",
              "</table>"
            ]
          },
          "metadata": {},
          "execution_count": 48
        }
      ]
    },
    {
      "cell_type": "markdown",
      "source": [
        "**'고객관리'**\n",
        "\n",
        "\n",
        "< 시나리오 >\n",
        "1. 검색 : 특정 회원이 주문한 물품을 보여줌\n",
        "2. 추천 : 회원이 주문한 상품들과 같은 회사 제품을 랜덤으로 추천함\n"
      ],
      "metadata": {
        "id": "3kpaBNCKT-WL"
      }
    },
    {
      "cell_type": "markdown",
      "source": [
        "[ 고객 테이블 생성 ]"
      ],
      "metadata": {
        "id": "3Oz3BF3uT_8L"
      }
    },
    {
      "cell_type": "markdown",
      "source": [
        "(1) 검색"
      ],
      "metadata": {
        "id": "zJim0mg8VqIY"
      }
    },
    {
      "cell_type": "code",
      "source": [
        "%sql SELECT * FROM orders WHERE member_id = 'downw1206';"
      ],
      "metadata": {
        "id": "WM35-Rk0VszD",
        "colab": {
          "base_uri": "https://localhost:8080/",
          "height": 118
        },
        "outputId": "5b5c0021-7d8f-463b-88fa-9bec1c957278"
      },
      "execution_count": null,
      "outputs": [
        {
          "output_type": "stream",
          "name": "stdout",
          "text": [
            " * sqlite:///example.db\n",
            "Done.\n"
          ]
        },
        {
          "output_type": "execute_result",
          "data": {
            "text/plain": [
              "[('downw1206', '1024-23951', '2921-12830', '경기도 부천시', 1, '2024-09-02'),\n",
              " ('downw1206', '2953-58638', '2931-12830', '경기도 부천시', 1, '2024-09-02')]"
            ],
            "text/html": [
              "<table>\n",
              "    <thead>\n",
              "        <tr>\n",
              "            <th>member_id</th>\n",
              "            <th>product_number</th>\n",
              "            <th>order_number</th>\n",
              "            <th>delivery_address</th>\n",
              "            <th>order_quantity</th>\n",
              "            <th>order_date</th>\n",
              "        </tr>\n",
              "    </thead>\n",
              "    <tbody>\n",
              "        <tr>\n",
              "            <td>downw1206</td>\n",
              "            <td>1024-23951</td>\n",
              "            <td>2921-12830</td>\n",
              "            <td>경기도 부천시</td>\n",
              "            <td>1</td>\n",
              "            <td>2024-09-02</td>\n",
              "        </tr>\n",
              "        <tr>\n",
              "            <td>downw1206</td>\n",
              "            <td>2953-58638</td>\n",
              "            <td>2931-12830</td>\n",
              "            <td>경기도 부천시</td>\n",
              "            <td>1</td>\n",
              "            <td>2024-09-02</td>\n",
              "        </tr>\n",
              "    </tbody>\n",
              "</table>"
            ]
          },
          "metadata": {},
          "execution_count": 49
        }
      ]
    },
    {
      "cell_type": "markdown",
      "source": [
        "(2) 추천"
      ],
      "metadata": {
        "id": "o1KynxxqVtMd"
      }
    },
    {
      "cell_type": "code",
      "source": [
        "%%sql\n",
        "\n",
        "SELECT p.product_name, p.price\n",
        "FROM products p\n",
        "JOIN ( SELECT DISTINCT pr.manufacturer_name\n",
        "      FROM orders o\n",
        "      JOIN products pr ON o.product_number = pr.product_number\n",
        "      WHERE o.member_id = 'zdifgs39'\n",
        "    ) AS ordered_manufacturers ON p.manufacturer_name = ordered_manufacturers.manufacturer_name\n",
        "ORDER BY RANDOM();"
      ],
      "metadata": {
        "id": "xJt5CwJAVvMv",
        "colab": {
          "base_uri": "https://localhost:8080/",
          "height": 118
        },
        "outputId": "fcdcd8f2-3776-4151-c470-118cb1f47749"
      },
      "execution_count": null,
      "outputs": [
        {
          "output_type": "stream",
          "name": "stdout",
          "text": [
            " * sqlite:///example.db\n",
            "Done.\n"
          ]
        },
        {
          "output_type": "execute_result",
          "data": {
            "text/plain": [
              "[('달콤 비스킷', 3000.0), ('리코타 치즈', 9800.0)]"
            ],
            "text/html": [
              "<table>\n",
              "    <thead>\n",
              "        <tr>\n",
              "            <th>product_name</th>\n",
              "            <th>price</th>\n",
              "        </tr>\n",
              "    </thead>\n",
              "    <tbody>\n",
              "        <tr>\n",
              "            <td>달콤 비스킷</td>\n",
              "            <td>3000.0</td>\n",
              "        </tr>\n",
              "        <tr>\n",
              "            <td>리코타 치즈</td>\n",
              "            <td>9800.0</td>\n",
              "        </tr>\n",
              "    </tbody>\n",
              "</table>"
            ]
          },
          "metadata": {},
          "execution_count": 53
        }
      ]
    }
  ]
}